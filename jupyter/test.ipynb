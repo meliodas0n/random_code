{
 "cells": [
  {
   "cell_type": "code",
   "execution_count": 3,
   "metadata": {},
   "outputs": [],
   "source": [
    "from tkinter import *\n",
    "from tkinter import simpledialog\n",
    "from tkinter import messagebox\n",
    "import os\n",
    "from googletrans import Translator\n",
    "\n",
    "\n",
    "root = Tk()\n",
    "\n",
    "class TransText:\n",
    "    def __init__(self, root):\n",
    "        self.root = root\n",
    "        self.root.resizable(True, True)\n",
    "\n",
    "        self.root.title(\"TEST\")\n",
    "        self.root.geometry(\"1024x720\")\n",
    "\n",
    "        btn = Button(root, text = \"TRANSLATE\", command = self.translate, font = (\"cascadia code\", 16, \"italic\"), bg = \"white\", fg = \"blue\", bd = 5, relief = GROOVE)\n",
    "        btn.pack()\n",
    "\n",
    "\n",
    "    def translate(self):\n",
    "        word = simpledialog.askstring(\"INPUT\", \"Enter the Text that you want to translate: \")\n",
    "        trans = word\n",
    "        translator = Translator()\n",
    "        if trans:\n",
    "            final = simpledialog.askstring(\"Your Language\", \"Enter you preferred Laguage\")\n",
    "            msg = translator.translate(trans, dest = final)\n",
    "            print(msg)\n",
    "        else:\n",
    "            exit(0)\n",
    "\n",
    "                \n",
    "\n",
    "TransText(root)\n",
    "root.mainloop()\n"
   ]
  },
  {
   "cell_type": "code",
   "execution_count": null,
   "metadata": {},
   "outputs": [],
   "source": [
    "pip install pygame\n"
   ]
  }
 ],
 "metadata": {
  "kernelspec": {
   "display_name": "Python 3",
   "language": "python",
   "name": "python3"
  },
  "language_info": {
   "codemirror_mode": {
    "name": "ipython",
    "version": 3
   },
   "file_extension": ".py",
   "mimetype": "text/x-python",
   "name": "python",
   "nbconvert_exporter": "python",
   "pygments_lexer": "ipython3",
   "version": "3.9.0"
  }
 },
 "nbformat": 4,
 "nbformat_minor": 4
}
