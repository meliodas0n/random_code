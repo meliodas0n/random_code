{
 "cells": [
  {
   "cell_type": "code",
   "execution_count": 2,
   "id": "0ab04c9b",
   "metadata": {},
   "outputs": [],
   "source": [
    "import numpy as np\n",
    "from atom import ATOMClassifier\n",
    "from sklearn.datasets import fetch_20newsgroups"
   ]
  },
  {
   "cell_type": "code",
   "execution_count": 3,
   "id": "e2e8f793",
   "metadata": {},
   "outputs": [
    {
     "ename": "ValueError",
     "evalue": "'rec.atuos' is not in list",
     "output_type": "error",
     "traceback": [
      "\u001b[0;31m---------------------------------------------------------------------------\u001b[0m",
      "\u001b[0;31mValueError\u001b[0m                                Traceback (most recent call last)",
      "Input \u001b[0;32mIn [3]\u001b[0m, in \u001b[0;36m<cell line: 1>\u001b[0;34m()\u001b[0m\n\u001b[0;32m----> 1\u001b[0m X, y \u001b[38;5;241m=\u001b[39m \u001b[43mfetch_20newsgroups\u001b[49m\u001b[43m(\u001b[49m\u001b[43mreturn_X_y\u001b[49m\u001b[43m \u001b[49m\u001b[38;5;241;43m=\u001b[39;49m\u001b[43m \u001b[49m\u001b[38;5;28;43;01mTrue\u001b[39;49;00m\u001b[43m,\u001b[49m\u001b[43m \u001b[49m\u001b[43mcategories\u001b[49m\u001b[43m \u001b[49m\u001b[38;5;241;43m=\u001b[39;49m\u001b[43m \u001b[49m\u001b[43m[\u001b[49m\u001b[38;5;124;43m'\u001b[39;49m\u001b[38;5;124;43malt.atheism\u001b[39;49m\u001b[38;5;124;43m'\u001b[39;49m\u001b[43m,\u001b[49m\u001b[43m \u001b[49m\u001b[38;5;124;43m'\u001b[39;49m\u001b[38;5;124;43msci.med\u001b[39;49m\u001b[38;5;124;43m'\u001b[39;49m\u001b[43m,\u001b[49m\u001b[43m \u001b[49m\u001b[38;5;124;43m'\u001b[39;49m\u001b[38;5;124;43mcomp.windows.x\u001b[39;49m\u001b[38;5;124;43m'\u001b[39;49m\u001b[43m,\u001b[49m\u001b[43m \u001b[49m\u001b[38;5;124;43m'\u001b[39;49m\u001b[38;5;124;43mmisc.forsale\u001b[39;49m\u001b[38;5;124;43m'\u001b[39;49m\u001b[43m,\u001b[49m\u001b[43m \u001b[49m\u001b[38;5;124;43m'\u001b[39;49m\u001b[38;5;124;43mrec.atuos\u001b[39;49m\u001b[38;5;124;43m'\u001b[39;49m\u001b[43m,\u001b[49m\u001b[43m]\u001b[49m\u001b[43m,\u001b[49m\u001b[43m)\u001b[49m\n",
      "File \u001b[0;32m~/.local/lib/python3.8/site-packages/sklearn/datasets/_twenty_newsgroups.py:302\u001b[0m, in \u001b[0;36mfetch_20newsgroups\u001b[0;34m(data_home, subset, categories, shuffle, random_state, remove, download_if_missing, return_X_y)\u001b[0m\n\u001b[1;32m    299\u001b[0m     data\u001b[38;5;241m.\u001b[39mdata \u001b[38;5;241m=\u001b[39m [strip_newsgroup_quoting(text) \u001b[38;5;28;01mfor\u001b[39;00m text \u001b[38;5;129;01min\u001b[39;00m data\u001b[38;5;241m.\u001b[39mdata]\n\u001b[1;32m    301\u001b[0m \u001b[38;5;28;01mif\u001b[39;00m categories \u001b[38;5;129;01mis\u001b[39;00m \u001b[38;5;129;01mnot\u001b[39;00m \u001b[38;5;28;01mNone\u001b[39;00m:\n\u001b[0;32m--> 302\u001b[0m     labels \u001b[38;5;241m=\u001b[39m [(data\u001b[38;5;241m.\u001b[39mtarget_names\u001b[38;5;241m.\u001b[39mindex(cat), cat) \u001b[38;5;28;01mfor\u001b[39;00m cat \u001b[38;5;129;01min\u001b[39;00m categories]\n\u001b[1;32m    303\u001b[0m     \u001b[38;5;66;03m# Sort the categories to have the ordering of the labels\u001b[39;00m\n\u001b[1;32m    304\u001b[0m     labels\u001b[38;5;241m.\u001b[39msort()\n",
      "File \u001b[0;32m~/.local/lib/python3.8/site-packages/sklearn/datasets/_twenty_newsgroups.py:302\u001b[0m, in \u001b[0;36m<listcomp>\u001b[0;34m(.0)\u001b[0m\n\u001b[1;32m    299\u001b[0m     data\u001b[38;5;241m.\u001b[39mdata \u001b[38;5;241m=\u001b[39m [strip_newsgroup_quoting(text) \u001b[38;5;28;01mfor\u001b[39;00m text \u001b[38;5;129;01min\u001b[39;00m data\u001b[38;5;241m.\u001b[39mdata]\n\u001b[1;32m    301\u001b[0m \u001b[38;5;28;01mif\u001b[39;00m categories \u001b[38;5;129;01mis\u001b[39;00m \u001b[38;5;129;01mnot\u001b[39;00m \u001b[38;5;28;01mNone\u001b[39;00m:\n\u001b[0;32m--> 302\u001b[0m     labels \u001b[38;5;241m=\u001b[39m [(\u001b[43mdata\u001b[49m\u001b[38;5;241;43m.\u001b[39;49m\u001b[43mtarget_names\u001b[49m\u001b[38;5;241;43m.\u001b[39;49m\u001b[43mindex\u001b[49m\u001b[43m(\u001b[49m\u001b[43mcat\u001b[49m\u001b[43m)\u001b[49m, cat) \u001b[38;5;28;01mfor\u001b[39;00m cat \u001b[38;5;129;01min\u001b[39;00m categories]\n\u001b[1;32m    303\u001b[0m     \u001b[38;5;66;03m# Sort the categories to have the ordering of the labels\u001b[39;00m\n\u001b[1;32m    304\u001b[0m     labels\u001b[38;5;241m.\u001b[39msort()\n",
      "\u001b[0;31mValueError\u001b[0m: 'rec.atuos' is not in list"
     ]
    }
   ],
   "source": [
    "X, y = fetch_20newsgroups(return_X_y = True, categories = ['alt.atheism', 'sci.med', 'comp.windows.x', 'misc.forsale', 'sci.electronics',],)"
   ]
  },
  {
   "cell_type": "code",
   "execution_count": null,
   "id": "1180c108",
   "metadata": {},
   "outputs": [],
   "source": [
    "X = np.array(X).reshape(-1, 1)"
   ]
  },
  {
   "cell_type": "code",
   "execution_count": null,
   "id": "3ea6c1b4",
   "metadata": {},
   "outputs": [],
   "source": []
  }
 ],
 "metadata": {
  "kernelspec": {
   "display_name": "Python 3 (ipykernel)",
   "language": "python",
   "name": "python3"
  },
  "language_info": {
   "codemirror_mode": {
    "name": "ipython",
    "version": 3
   },
   "file_extension": ".py",
   "mimetype": "text/x-python",
   "name": "python",
   "nbconvert_exporter": "python",
   "pygments_lexer": "ipython3",
   "version": "3.8.10"
  }
 },
 "nbformat": 4,
 "nbformat_minor": 5
}
